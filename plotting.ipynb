{
 "cells": [
  {
   "cell_type": "code",
   "execution_count": 12,
   "metadata": {},
   "outputs": [],
   "source": [
    "import matplotlib.pyplot as plt\n",
    "import numpy as np"
   ]
  },
  {
   "cell_type": "code",
   "execution_count": 18,
   "metadata": {},
   "outputs": [
    {
     "name": "stdout",
     "output_type": "stream",
     "text": [
      "675\n"
     ]
    }
   ],
   "source": [
    "import pickle\n",
    "\n",
    "run_nr=0\n",
    "number_of_parallel_runs=12\n",
    "\n",
    "results = {}\n",
    "for no in range(number_of_parallel_runs):\n",
    "    path = \"output/benchmark/{run_nr}/results_{no}.pickle\".format(run_nr=run_nr,no=no)\n",
    "    with open(path, 'rb') as handle:\n",
    "        results = {**results,**pickle.load(handle)}\n",
    "        \n",
    "        \n",
    "print(len(results))"
   ]
  },
  {
   "cell_type": "code",
   "execution_count": null,
   "metadata": {},
   "outputs": [],
   "source": [
    "def extract_baseline_to_mean_score(results):\n",
    "    extracted = {}\n",
    "    \n",
    "    for ((inf_rate,graph_name, baseline_name,infected_fraction,budget),(graph_data,result_data)) in results.items():\n",
    "        if baseline_name not in extracted.keys():\n",
    "            extracted[baseline_name] = []\n",
    "        extracted[baseline_name].append(result_data['score'])\n",
    "    \n",
    "    extracted_means = {}\n",
    "    \n",
    "    for baseline_name, scores in extracted.items():\n",
    "        extracted_means[baseline_name] = np.mean(scores)\n",
    "    \n",
    "    \n",
    "    \n",
    "    return sorted(extracted_means.items(),key=lambda x: x[1], reverse=True)"
   ]
  },
  {
   "cell_type": "code",
   "execution_count": null,
   "metadata": {},
   "outputs": [],
   "source": [
    "print(extract_baseline_to_mean_score(results))"
   ]
  },
  {
   "cell_type": "code",
   "execution_count": null,
   "metadata": {},
   "outputs": [],
   "source": []
  },
  {
   "cell_type": "code",
   "execution_count": null,
   "metadata": {},
   "outputs": [],
   "source": []
  }
 ],
 "metadata": {
  "kernelspec": {
   "display_name": "Python 3",
   "language": "python",
   "name": "python3"
  },
  "language_info": {
   "codemirror_mode": {
    "name": "ipython",
    "version": 3
   },
   "file_extension": ".py",
   "mimetype": "text/x-python",
   "name": "python",
   "nbconvert_exporter": "python",
   "pygments_lexer": "ipython3",
   "version": "3.8.2"
  }
 },
 "nbformat": 4,
 "nbformat_minor": 4
}
